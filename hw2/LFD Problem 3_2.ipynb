{
 "cells": [
  {
   "cell_type": "code",
   "execution_count": 49,
   "metadata": {},
   "outputs": [],
   "source": [
    "import numpy as np\n",
    "\n",
    "#parameters\n",
    "rad = 10\n",
    "thk = 5\n",
    "sep = 5\n",
    "\n",
    "#n data points,(x1,y1) are the coordinates of the top semi-circle\n",
    "def generatedata(rad,thk,sep,n,x1=0,y1=0):\n",
    "    # center of the top semi-circle\n",
    "    X1 = x1\n",
    "    Y1 = y1\n",
    "\n",
    "    # center of the bottom semi-circle\n",
    "    X2 = X1 + rad + thk / 2\n",
    "    Y2 = Y1 - sep\n",
    "    \n",
    "    # data points in the top semi-circle\n",
    "    top = []\n",
    "    # data points in the bottom semi-circle\n",
    "    bottom = []\n",
    "    \n",
    "    # parameters\n",
    "    r1 = rad + thk\n",
    "    r2 = rad\n",
    "    \n",
    "    cnt = 1\n",
    "    while(cnt <= n):\n",
    "        #uniformed generated points\n",
    "        x = np.random.uniform(-r1,r1)\n",
    "        y = np.random.uniform(-r1,r1)\n",
    "        \n",
    "        d = x**2 + y**2\n",
    "        if(d >= r2**2 and d <= r1**2):\n",
    "            if (y > 0):\n",
    "                top.append([X1 + x,Y1 + y])\n",
    "                cnt += 1\n",
    "            else:\n",
    "                bottom.append([X2 + x,Y2 + y])\n",
    "                cnt += 1\n",
    "        else:\n",
    "            continue\n",
    "\n",
    "    return top,bottom"
   ]
  },
  {
   "cell_type": "code",
   "execution_count": 50,
   "metadata": {},
   "outputs": [],
   "source": [
    "class Perceptron(object):\n",
    "    def __init__(self, data):\n",
    "        self.W = np.zeros(len(data[0:3]))\n",
    "        self.flag = True\n",
    "        self.updates = 0;\n",
    "    \n",
    "    def predict(self, x):\n",
    "        activation = np.sign(np.dot(self.W.T,x))\n",
    "        return activation\n",
    "    \n",
    "    def fit(self, data):\n",
    "        X = np.array(data)[:,0:3]\n",
    "        d = np.array(data)[:, 3:4]\n",
    "        \n",
    "        while self.flag:\n",
    "            self.flag = True\n",
    "            for i in range(len(data)):\n",
    "                y = self.predict(X[i])\n",
    "                \n",
    "                if y * d[i] <= 0:\n",
    "                    self.W = self.W + d[i] * X[i]\n",
    "                    self.updates += 1\n",
    "                    self.flag = False\n",
    "                    \n",
    "            if self.flag:\n",
    "                break\n",
    "            else:\n",
    "                self.flag = True\n"
   ]
  },
  {
   "cell_type": "code",
   "execution_count": 51,
   "metadata": {},
   "outputs": [],
   "source": [
    "x = 0.2\n",
    "upadteArr = []\n",
    "sepArr = []\n",
    "while (x<5.2):\n",
    "    top,bottom = generatedata(rad,thk,x,1000)\n",
    "    X1 = [i[0] for i in top]\n",
    "    Y1 = [i[1] for i in top]\n",
    "\n",
    "    X2 = [i[0] for i in bottom]\n",
    "    Y2 = [i[1] for i in bottom]\n",
    "    \n",
    "    x1 = [[1] + i + [1] for i in top]\n",
    "    x2 = [[1] + i + [-1] for i in bottom]\n",
    "    data = x1 + x2\n",
    "    \n",
    "    data = np.array(data)\n",
    "    np.random.shuffle(data)\n",
    "    perceptron = Perceptron(data)\n",
    "    perceptron.fit(data)\n",
    "    upadteArr.append(perceptron.updates)\n",
    "    sepArr.append(x)\n",
    "    x+=0.2\n"
   ]
  },
  {
   "cell_type": "markdown",
   "metadata": {},
   "source": [
    "# Plot of sep vs number of iterations"
   ]
  },
  {
   "cell_type": "code",
   "execution_count": 52,
   "metadata": {},
   "outputs": [
    {
     "data": {
      "image/png": "[encoded data removed]",
      "text/plain": [
       "<matplotlib.figure.Figure at 0x1194c1f60>"
      ]
     },
     "metadata": {},
     "output_type": "display_data"
    }
   ],
   "source": [
    "import matplotlib.pyplot as plt\n",
    "plt.plot(sepArr,upadteArr,  color='black', linestyle='-', label='g(x)')\n",
    "plt.xlabel(\"sep\");\n",
    "plt.ylabel(\"number of updates\");\n",
    "plt.show()"
   ]
  }
 ],
 "metadata": {
  "kernelspec": {
   "display_name": "Python 3",
   "language": "python",
   "name": "python3"
  },
  "language_info": {
   "codemirror_mode": {
    "name": "ipython",
    "version": 3
   },
   "file_extension": ".py",
   "mimetype": "text/x-python",
   "name": "python",
   "nbconvert_exporter": "python",
   "pygments_lexer": "ipython3",
   "version": "3.6.4"
  }
 },
 "nbformat": 4,
 "nbformat_minor": 2
}
