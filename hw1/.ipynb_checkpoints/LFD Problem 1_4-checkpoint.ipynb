{
 "cells": [
  {
   "cell_type": "code",
   "execution_count": 2,
   "metadata": {},
   "outputs": [],
   "source": [
    "import random\n",
    "import numpy as np\n",
    "import matplotlib.pyplot as plt\n",
    "plt.rcParams['axes.unicode_minus'] = False \n",
    "\n",
    "#generate a data set of 20. \n",
    "#for simplicity, 10 in the first quadrant, another 10 in the third quadrant \n",
    "X1 = []\n",
    "Y1 = []\n",
    "X2 = []\n",
    "Y2 = []\n",
    "\n",
    "for i in range(10):\n",
    "    X1.append(random.uniform(0,1))\n",
    "    Y1.append(random.uniform(0,1))\n",
    "    X2.append(random.uniform(-1,0))\n",
    "    Y2.append(random.uniform(-1,0))\n",
    "    \n",
    "#label the data\n",
    "data1 = [np.array([1,X1[i],Y1[i],1]) for i in range(10)]\n",
    "data2 = [np.array([1,X2[i],Y2[i],-1]) for i in range(10)]\n",
    "data = data1 + data2\n"
   ]
  },
  {
   "cell_type": "code",
   "execution_count": 3,
   "metadata": {},
   "outputs": [],
   "source": [
    "class Perceptron(object):\n",
    "    def __init__(self, data):\n",
    "        self.W = np.zeros(len(data[0:3]))\n",
    "        self.flag = True\n",
    "        self.updates = 0;\n",
    "    \n",
    "    def predict(self, x):\n",
    "        activation = np.sign(np.dot(self.W.T,x))\n",
    "        return 1 if activation >=0 else -1\n",
    "    \n",
    "    def fit(self, data):\n",
    "        X = np.array(data)[:,0:3]\n",
    "        d = np.array(data)[:, 3:4]\n",
    "        \n",
    "        while self.flag:\n",
    "            self.flag = True\n",
    "            for i in range(len(data)):\n",
    "                y = self.predict(X[i])\n",
    "                \n",
    "                if y * d[i] <= 0:\n",
    "                    self.W = self.W + d[i] * X[i]\n",
    "                    self.updates += 1\n",
    "                    self.flag = False\n",
    "                    \n",
    "            if self.flag:\n",
    "                break\n",
    "            else:\n",
    "                self.flag = True"
   ]
  },
  {
   "cell_type": "code",
   "execution_count": 4,
   "metadata": {},
   "outputs": [
    {
     "name": "stdout",
     "output_type": "stream",
     "text": [
      "Weight matrix = [0.         1.31143401 1.11187091]\n",
      "Number of updates = 2\n"
     ]
    }
   ],
   "source": [
    "perceptron = Perceptron(data)\n",
    "perceptron.fit(data)\n",
    "print(\"Weight matrix =\",perceptron.W)\n",
    "print (\"Number of updates =\", perceptron.updates)"
   ]
  },
  {
   "cell_type": "code",
   "execution_count": null,
   "metadata": {},
   "outputs": [],
   "source": []
  }
 ],
 "metadata": {
  "kernelspec": {
   "display_name": "Python 3",
   "language": "python",
   "name": "python3"
  },
  "language_info": {
   "codemirror_mode": {
    "name": "ipython",
    "version": 3
   },
   "file_extension": ".py",
   "mimetype": "text/x-python",
   "name": "python",
   "nbconvert_exporter": "python",
   "pygments_lexer": "ipython3",
   "version": "3.6.4"
  }
 },
 "nbformat": 4,
 "nbformat_minor": 2
}
