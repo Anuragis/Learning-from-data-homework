{
 "cells": [
  {
   "cell_type": "code",
   "execution_count": 11,
   "metadata": {},
   "outputs": [],
   "source": [
    "class Perceptron(object):\n",
    "    def _init_(self, data):\n",
    "        self.W = np.zeros(len(data[0:3]))\n",
    "        self.epochs = 100\n",
    "        self.learning_rate = 0.1\n",
    "    \n",
    "    def predict(self, x):\n",
    "        activation = np.dot(self.W.T,x)\n",
    "        return 1 if activation >= 0 else 0 \n",
    "    \n",
    "    def fit(self, data):\n",
    "        X = np.array(data)[:,0:3]\n",
    "        d = np.array(data)[:, 3:4]\n",
    "        for _ in range(self.epochs):\n",
    "            for i in range(len(data)):\n",
    "                #x = X[i]\n",
    "                #print(\"x = {0}\", x)\n",
    "                y = self.predict(X[i])\n",
    "                #print(\"y = {0}\", y)\n",
    "                #print(\"d[i]\", d[i])\n",
    "                e = d[i] - y\n",
    "\n",
    "                self.W = self.W + self.learning_rate * e * X[i]\n",
    "                "
   ]
  },
  {
   "cell_type": "code",
   "execution_count": 12,
   "metadata": {},
   "outputs": [],
   "source": [
    "import random\n",
    "import numpy as np\n",
    "import matplotlib.pyplot as plt\n",
    "plt.rcParams['axes.unicode_minus'] = False \n",
    "\n",
    "#generate a data set of 20. \n",
    "#for simplicity, 10 in the first quadrant, another 10 in the third quadrant \n",
    "X1 = []\n",
    "Y1 = []\n",
    "X2 = []\n",
    "Y2 = []\n",
    "\n",
    "for i in range(10):\n",
    "    X1.append(random.uniform(0,1))\n",
    "    Y1.append(random.uniform(0,1))\n",
    "    X2.append(random.uniform(-1,0))\n",
    "    Y2.append(random.uniform(-1,0))\n",
    "    \n",
    "#label the data\n",
    "data1 = [np.array([1,X1[i],Y1[i],1]) for i in range(10)]\n",
    "data2 = [np.array([1,X2[i],Y2[i],-1]) for i in range(10)]\n",
    "data = data1 + data2\n"
   ]
  },
  {
   "cell_type": "code",
   "execution_count": 13,
   "metadata": {},
   "outputs": [
    {
     "ename": "AttributeError",
     "evalue": "'Perceptron' object has no attribute 'epochs'",
     "output_type": "error",
     "traceback": [
      "\u001b[0;31m---------------------------------------------------------------------------\u001b[0m",
      "\u001b[0;31mAttributeError\u001b[0m                            Traceback (most recent call last)",
      "\u001b[0;32m<ipython-input-13-a809456309f1>\u001b[0m in \u001b[0;36m<module>\u001b[0;34m()\u001b[0m\n\u001b[1;32m      1\u001b[0m \u001b[0mperceptron\u001b[0m \u001b[0;34m=\u001b[0m \u001b[0mPerceptron\u001b[0m\u001b[0;34m(\u001b[0m\u001b[0;34m)\u001b[0m\u001b[0;34m\u001b[0m\u001b[0m\n\u001b[0;32m----> 2\u001b[0;31m \u001b[0mperceptron\u001b[0m\u001b[0;34m.\u001b[0m\u001b[0mfit\u001b[0m\u001b[0;34m(\u001b[0m\u001b[0mdata\u001b[0m\u001b[0;34m)\u001b[0m\u001b[0;34m\u001b[0m\u001b[0m\n\u001b[0m\u001b[1;32m      3\u001b[0m \u001b[0mprint\u001b[0m\u001b[0;34m(\u001b[0m\u001b[0mperceptron\u001b[0m\u001b[0;34m.\u001b[0m\u001b[0mW\u001b[0m\u001b[0;34m)\u001b[0m\u001b[0;34m\u001b[0m\u001b[0m\n",
      "\u001b[0;32m<ipython-input-11-51e9a1cfe4a7>\u001b[0m in \u001b[0;36mfit\u001b[0;34m(self, data)\u001b[0m\n\u001b[1;32m     12\u001b[0m         \u001b[0mX\u001b[0m \u001b[0;34m=\u001b[0m \u001b[0mnp\u001b[0m\u001b[0;34m.\u001b[0m\u001b[0marray\u001b[0m\u001b[0;34m(\u001b[0m\u001b[0mdata\u001b[0m\u001b[0;34m)\u001b[0m\u001b[0;34m[\u001b[0m\u001b[0;34m:\u001b[0m\u001b[0;34m,\u001b[0m\u001b[0;36m0\u001b[0m\u001b[0;34m:\u001b[0m\u001b[0;36m3\u001b[0m\u001b[0;34m]\u001b[0m\u001b[0;34m\u001b[0m\u001b[0m\n\u001b[1;32m     13\u001b[0m         \u001b[0md\u001b[0m \u001b[0;34m=\u001b[0m \u001b[0mnp\u001b[0m\u001b[0;34m.\u001b[0m\u001b[0marray\u001b[0m\u001b[0;34m(\u001b[0m\u001b[0mdata\u001b[0m\u001b[0;34m)\u001b[0m\u001b[0;34m[\u001b[0m\u001b[0;34m:\u001b[0m\u001b[0;34m,\u001b[0m \u001b[0;36m3\u001b[0m\u001b[0;34m:\u001b[0m\u001b[0;36m4\u001b[0m\u001b[0;34m]\u001b[0m\u001b[0;34m\u001b[0m\u001b[0m\n\u001b[0;32m---> 14\u001b[0;31m         \u001b[0;32mfor\u001b[0m \u001b[0m_\u001b[0m \u001b[0;32min\u001b[0m \u001b[0mrange\u001b[0m\u001b[0;34m(\u001b[0m\u001b[0mself\u001b[0m\u001b[0;34m.\u001b[0m\u001b[0mepochs\u001b[0m\u001b[0;34m)\u001b[0m\u001b[0;34m:\u001b[0m\u001b[0;34m\u001b[0m\u001b[0m\n\u001b[0m\u001b[1;32m     15\u001b[0m             \u001b[0;32mfor\u001b[0m \u001b[0mi\u001b[0m \u001b[0;32min\u001b[0m \u001b[0mrange\u001b[0m\u001b[0;34m(\u001b[0m\u001b[0mlen\u001b[0m\u001b[0;34m(\u001b[0m\u001b[0mdata\u001b[0m\u001b[0;34m)\u001b[0m\u001b[0;34m)\u001b[0m\u001b[0;34m:\u001b[0m\u001b[0;34m\u001b[0m\u001b[0m\n\u001b[1;32m     16\u001b[0m                 \u001b[0;31m#x = X[i]\u001b[0m\u001b[0;34m\u001b[0m\u001b[0;34m\u001b[0m\u001b[0m\n",
      "\u001b[0;31mAttributeError\u001b[0m: 'Perceptron' object has no attribute 'epochs'"
     ]
    }
   ],
   "source": [
    "perceptron = Perceptron()\n",
    "perceptron.fit(data)\n",
    "print(perceptron.W)"
   ]
  },
  {
   "cell_type": "code",
   "execution_count": 5,
   "metadata": {},
   "outputs": [
    {
     "name": "stdout",
     "output_type": "stream",
     "text": [
      "[array([1.        , 0.38773455, 0.68659937, 1.        ]), array([1.        , 0.38539516, 0.46476958, 1.        ]), array([1.        , 0.66164743, 0.80326252, 1.        ]), array([1.        , 0.10854712, 0.64296975, 1.        ]), array([1.        , 0.6197892 , 0.84499656, 1.        ]), array([1.        , 0.34970777, 0.72668286, 1.        ]), array([1.        , 0.88594149, 0.17616804, 1.        ]), array([1.        , 0.35209215, 0.41831838, 1.        ]), array([1.        , 0.05275687, 0.55481428, 1.        ]), array([1.        , 0.49949673, 0.86839166, 1.        ]), array([ 1.        , -0.80428932, -0.07532258, -1.        ]), array([ 1.        , -0.86831056, -0.21544722, -1.        ]), array([ 1.        , -0.40674306, -0.14603536, -1.        ]), array([ 1.        , -0.18012379, -0.98810558, -1.        ]), array([ 1.       , -0.7508525, -0.7091923, -1.       ]), array([ 1.        , -0.41102377, -0.48019124, -1.        ]), array([ 1.        , -0.44175388, -0.98967829, -1.        ]), array([ 1.        , -0.54254283, -0.10955091, -1.        ]), array([ 1.        , -0.71752635, -0.20597992, -1.        ]), array([ 1.        , -0.57423731, -0.39800678, -1.        ])]\n"
     ]
    }
   ],
   "source": [
    "print(data\n",
    "     )"
   ]
  },
  {
   "cell_type": "code",
   "execution_count": null,
   "metadata": {},
   "outputs": [],
   "source": []
  }
 ],
 "metadata": {
  "kernelspec": {
   "display_name": "Python 3",
   "language": "python",
   "name": "python3"
  },
  "language_info": {
   "codemirror_mode": {
    "name": "ipython",
    "version": 3
   },
   "file_extension": ".py",
   "mimetype": "text/x-python",
   "name": "python",
   "nbconvert_exporter": "python",
   "pygments_lexer": "ipython3",
   "version": "3.6.4"
  }
 },
 "nbformat": 4,
 "nbformat_minor": 2
}
