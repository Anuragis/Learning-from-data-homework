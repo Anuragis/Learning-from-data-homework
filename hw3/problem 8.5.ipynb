{
 "cells": [
  {
   "cell_type": "code",
   "execution_count": 12,
   "metadata": {},
   "outputs": [],
   "source": [
    "import random\n",
    "import numpy as np\n",
    "import matplotlib.pyplot as plt\n",
    "plt.rcParams['axes.unicode_minus'] = False \n",
    "X1_positive = []\n",
    "X2_positive = []\n",
    "X1_negative = []\n",
    "X2_negative = []\n",
    "\n",
    "for i in range(3):\n",
    "    X1_positive.append(random.uniform(0,1))\n",
    "    X2_positive.append(random.uniform(0,1))\n",
    "    X1_negative.append(random.uniform(-1,0))\n",
    "    X2_negative.append(random.uniform(-1,0))\n",
    "    \n",
    "#label the data\n",
    "data1 = [np.array([X1_positive[i],X2_positive[i],1]) for i in range(3)]\n",
    "data2 = [np.array([X1_negative[i],X2_negative[i],-1]) for i in range(3)]\n",
    "data = data1 + data2"
   ]
  },
  {
   "cell_type": "code",
   "execution_count": 13,
   "metadata": {},
   "outputs": [],
   "source": [
    "a = random.uniform(-1,1)"
   ]
  },
  {
   "cell_type": "code",
   "execution_count": 14,
   "metadata": {},
   "outputs": [
    {
     "data": {
      "image/png": "[encoded data removed]",
      "text/plain": [
       "<matplotlib.figure.Figure at 0x11b1905f8>"
      ]
     },
     "metadata": {},
     "output_type": "display_data"
    }
   ],
   "source": [
    "plt.plot(X1_positive, X2_positive, 'bo')\n",
    "plt.plot(X1_negative, X2_negative, 'ro')\n",
    "x = np.linspace(-1,1)\n",
    "plt.xlabel(\"X1\");\n",
    "plt.ylabel(\"X2\");\n",
    "plt.show()"
   ]
  },
  {
   "cell_type": "code",
   "execution_count": 15,
   "metadata": {},
   "outputs": [],
   "source": [
    "def getRandomSeparator(data):\n",
    "    X2 = np.array(data)[:,1:2]\n",
    "    y = np.array(data)[:,2:3]\n",
    "    flag = True\n",
    "    while flag:\n",
    "        a_random = random.uniform(-1,1)\n",
    "        count = 0\n",
    "        for i in range(len(X2)):\n",
    "            if np.sign(X2[i]-a_random)*y[i] == 1:\n",
    "                count += 1\n",
    "        if count == 6:\n",
    "            flag = False\n",
    "    return a_random"
   ]
  },
  {
   "cell_type": "code",
   "execution_count": 16,
   "metadata": {},
   "outputs": [
    {
     "name": "stdout",
     "output_type": "stream",
     "text": [
      "0.1938080121883583\n"
     ]
    }
   ],
   "source": [
    "a_random = getRandomSeparator(data)\n",
    "print(a_random)"
   ]
  },
  {
   "cell_type": "code",
   "execution_count": 17,
   "metadata": {},
   "outputs": [
    {
     "data": {
      "image/png": "[encoded data removed]",
      "text/plain": [
       "<matplotlib.figure.Figure at 0x117e9ba20>"
      ]
     },
     "metadata": {},
     "output_type": "display_data"
    }
   ],
   "source": [
    "plt.plot(X1_positive, X2_positive, 'bo')\n",
    "plt.plot(X1_negative, X2_negative, 'ro')\n",
    "x = np.linspace(-1,1)\n",
    "plt.axhline(a_random)\n",
    "plt.xlabel(\"X1\");\n",
    "plt.ylabel(\"X2\");\n",
    "plt.show()"
   ]
  },
  {
   "cell_type": "code",
   "execution_count": 18,
   "metadata": {},
   "outputs": [
    {
     "name": "stdout",
     "output_type": "stream",
     "text": [
      "[1.36002363 0.5581531 ]\n",
      "W0 =  1.3600236263437742\n",
      "W1 =  0.5581530955005657\n",
      "b =  0.3023630575097477\n"
     ]
    }
   ],
   "source": [
    "from sklearn import svm\n",
    "clf = svm.SVC(kernel='linear', C = 1.0)\n",
    "clf.fit(np.array(data)[:,0:2],np.array(data)[:,2])\n",
    "print(clf.coef_[0])\n",
    "W = clf.coef_[0]\n",
    "b = clf.intercept_[0]\n",
    "print(\"W0 = \", W[0])\n",
    "print(\"W1 = \", W[1])\n",
    "print(\"b = \", b)"
   ]
  },
  {
   "cell_type": "code",
   "execution_count": 19,
   "metadata": {},
   "outputs": [
    {
     "data": {
      "image/png": "[encoded data removed]",
      "text/plain": [
       "<matplotlib.figure.Figure at 0x1a1d375da0>"
      ]
     },
     "metadata": {},
     "output_type": "display_data"
    }
   ],
   "source": [
    "from collections import OrderedDict\n",
    "plt.plot(X1_positive, X2_positive, 'bo')\n",
    "plt.plot(X1_negative, X2_negative, 'ro')\n",
    "X = np.array(data)[:,0:2]\n",
    "plt.axhline(a_random, label='grandom(x)')\n",
    "plt.plot(x, (-W[0]*x-b)/W[1], color='blue', linestyle='-',label='gsvm(x)' )\n",
    "plt.legend()\n",
    "handles, labels = plt.gca().get_legend_handles_labels()\n",
    "by_label = OrderedDict(zip(labels, handles))\n",
    "plt.legend(by_label.values(), by_label.keys())\n",
    "plt.xlabel(\"X1\");\n",
    "plt.ylabel(\"X2\");\n",
    "plt.show()"
   ]
  },
  {
   "cell_type": "code",
   "execution_count": 129,
   "metadata": {},
   "outputs": [],
   "source": [
    "def RandomDataPointsGenerator():\n",
    "    X1_positive = []\n",
    "    X2_positive = []\n",
    "    X1_negative = []\n",
    "    X2_negative = []\n",
    "    \n",
    "    for i in range(3):\n",
    "        X1_positive.append(random.uniform(0,1))\n",
    "        X2_positive.append(random.uniform(0,1))\n",
    "        X1_negative.append(random.uniform(-1,0))\n",
    "        X2_negative.append(random.uniform(-1,0))\n",
    "\n",
    "    #label the data\n",
    "    data1 = [np.array([X1_positive[i],X2_positive[i],1]) for i in range(3)]\n",
    "    data2 = [np.array([X1_negative[i],X2_negative[i],-1]) for i in range(3)]\n",
    "    data = data1 + data2\n",
    "    return data"
   ]
  },
  {
   "cell_type": "code",
   "execution_count": 130,
   "metadata": {},
   "outputs": [],
   "source": [
    "random_a_array = []\n",
    "random_svm_a_array = []\n",
    "\n",
    "for i in range(1,100001):\n",
    "    data = RandomDataPointsGenerator()    \n",
    "    random_a_array.append(random.uniform(-1,1))\n",
    "    clf.fit(np.array(data)[:,0:2],np.array(data)[:,2])\n",
    "    W = clf.coef_[0]\n",
    "    b = clf.intercept_[0]\n",
    "    perceptron.fit(data)\n",
    "    random_a_array.append(-perceptron.W[0])\n",
    "    random_svm_a_array.append(-b)"
   ]
  },
  {
   "cell_type": "code",
   "execution_count": 131,
   "metadata": {},
   "outputs": [
    {
     "data": {
      "image/png": "[encoded data removed]",
      "text/plain": [
       "<matplotlib.figure.Figure at 0x1a11c61320>"
      ]
     },
     "metadata": {},
     "output_type": "display_data"
    }
   ],
   "source": [
    "plt.hist(random_a_array, bins='auto')\n",
    "plt.show()"
   ]
  },
  {
   "cell_type": "code",
   "execution_count": 132,
   "metadata": {},
   "outputs": [
    {
     "data": {
      "image/png": "[encoded data removed]",
      "text/plain": [
       "<matplotlib.figure.Figure at 0x1a111dc9b0>"
      ]
     },
     "metadata": {},
     "output_type": "display_data"
    }
   ],
   "source": [
    "plt.hist(random_svm_a_array, bins='auto')\n",
    "plt.show()"
   ]
  },
  {
   "cell_type": "code",
   "execution_count": 133,
   "metadata": {},
   "outputs": [],
   "source": [
    "#Comparing the histogram we get gaussian distribution for asvm while for arandom we get uneven distribution."
   ]
  },
  {
   "cell_type": "code",
   "execution_count": null,
   "metadata": {},
   "outputs": [],
   "source": []
  },
  {
   "cell_type": "code",
   "execution_count": null,
   "metadata": {},
   "outputs": [],
   "source": []
  },
  {
   "cell_type": "code",
   "execution_count": null,
   "metadata": {},
   "outputs": [],
   "source": []
  },
  {
   "cell_type": "code",
   "execution_count": null,
   "metadata": {},
   "outputs": [],
   "source": []
  }
 ],
 "metadata": {
  "kernelspec": {
   "display_name": "Python 3",
   "language": "python",
   "name": "python3"
  },
  "language_info": {
   "codemirror_mode": {
    "name": "ipython",
    "version": 3
   },
   "file_extension": ".py",
   "mimetype": "text/x-python",
   "name": "python",
   "nbconvert_exporter": "python",
   "pygments_lexer": "ipython3",
   "version": "3.6.4"
  }
 },
 "nbformat": 4,
 "nbformat_minor": 2
}
