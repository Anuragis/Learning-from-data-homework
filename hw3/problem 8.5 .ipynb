{
 "cells": [
  {
   "cell_type": "code",
   "execution_count": 66,
   "metadata": {},
   "outputs": [],
   "source": [
    "import random\n",
    "import numpy as np\n",
    "import matplotlib.pyplot as plt\n",
    "plt.rcParams['axes.unicode_minus'] = False \n",
    "X1_positive = []\n",
    "X2_positive = []\n",
    "X1_negative = []\n",
    "X2_negative = []\n",
    "\n",
    "for i in range(3):\n",
    "    X1_positive.append(random.uniform(0,1))\n",
    "    X2_positive.append(random.uniform(0,1))\n",
    "    X1_negative.append(random.uniform(-1,0))\n",
    "    X2_negative.append(random.uniform(-1,0))\n",
    "    \n",
    "#label the data\n",
    "data1 = [np.array([X1_positive[i],X2_positive[i],1]) for i in range(3)]\n",
    "data2 = [np.array([X1_negative[i],X2_negative[i],-1]) for i in range(3)]\n",
    "data = data1 + data2"
   ]
  },
  {
   "cell_type": "code",
   "execution_count": 67,
   "metadata": {},
   "outputs": [],
   "source": [
    "a = random.uniform(-1,1)"
   ]
  },
  {
   "cell_type": "code",
   "execution_count": 68,
   "metadata": {},
   "outputs": [
    {
     "data": {
      "image/png": "[encoded data removed]",
      "text/plain": [
       "<matplotlib.figure.Figure at 0x1a20dd5438>"
      ]
     },
     "metadata": {},
     "output_type": "display_data"
    }
   ],
   "source": [
    "plt.plot(X1_positive, X2_positive, 'bo')\n",
    "plt.plot(X1_negative, X2_negative, 'ro')\n",
    "x = np.linspace(-1,1)\n",
    "plt.xlabel(\"X1\");\n",
    "plt.ylabel(\"X2\");\n",
    "plt.show()"
   ]
  },
  {
   "cell_type": "code",
   "execution_count": 69,
   "metadata": {},
   "outputs": [],
   "source": [
    "class Perceptron(object):\n",
    "    def __init__(self, data,a):\n",
    "        self.W = np.zeros(len(data[0:3]))\n",
    "        self.a = a;\n",
    "    \n",
    "    def predict(self, x):\n",
    "        activation = np.sign(x-self.W[0])\n",
    "        return activation\n",
    "    \n",
    "    def fit(self, data):\n",
    "        X2 = np.array(data)[:,1:2]\n",
    "        d = np.array(data)[:, 2]\n",
    "        self.W[0]=self.a;\n",
    "        for i in range(len(data)):\n",
    "            y = self.predict(X2[i])\n",
    "            if y != d[i]:\n",
    "                self.W = self.W + d[i] * X2[i]\n",
    "                \n",
    "       \n",
    "                    \n",
    "            "
   ]
  },
  {
   "cell_type": "code",
   "execution_count": 70,
   "metadata": {},
   "outputs": [
    {
     "name": "stdout",
     "output_type": "stream",
     "text": [
      "[array([0.51107836, 0.38713661, 1.        ]), array([0.40804161, 0.82025114, 1.        ]), array([0.52908739, 0.77105342, 1.        ]), array([-0.46647856, -0.72615083, -1.        ]), array([-0.75982492, -0.93542074, -1.        ]), array([-0.38072589, -0.60625134, -1.        ])]\n"
     ]
    }
   ],
   "source": [
    "print(data)"
   ]
  },
  {
   "cell_type": "code",
   "execution_count": 71,
   "metadata": {},
   "outputs": [
    {
     "name": "stdout",
     "output_type": "stream",
     "text": [
      "Weight matrix = [-0.47556343  0.          0.        ]\n"
     ]
    }
   ],
   "source": [
    "perceptron = Perceptron(data,a)\n",
    "perceptron.fit(data)\n",
    "print(\"Weight matrix =\",perceptron.W)\n"
   ]
  },
  {
   "cell_type": "code",
   "execution_count": 72,
   "metadata": {},
   "outputs": [
    {
     "name": "stdout",
     "output_type": "stream",
     "text": [
      "[0.89180425 0.99338795]\n",
      "W0 =  0.8918042479579049\n",
      "W1 =  0.9933879529791636\n",
      "b =  0.03956639766693115\n"
     ]
    }
   ],
   "source": [
    "from sklearn import svm\n",
    "clf = svm.SVC(kernel='linear', C = 1.0)\n",
    "clf.fit(np.array(data)[:,0:2],np.array(data)[:,2])\n",
    "print(clf.coef_[0])\n",
    "W = clf.coef_[0]\n",
    "b = clf.intercept_[0]\n",
    "print(\"W0 = \", W[0])\n",
    "print(\"W1 = \", W[1])\n",
    "print(\"b = \", b)"
   ]
  },
  {
   "cell_type": "code",
   "execution_count": 73,
   "metadata": {},
   "outputs": [
    {
     "data": {
      "image/png": "[encoded data removed]",
      "text/plain": [
       "<matplotlib.figure.Figure at 0x1a20d7f7b8>"
      ]
     },
     "metadata": {},
     "output_type": "display_data"
    }
   ],
   "source": [
    "from collections import OrderedDict\n",
    "plt.plot(X1_positive, X2_positive, 'bo')\n",
    "plt.plot(X1_negative, X2_negative, 'ro')\n",
    "X = np.array(data)[:,0:2]\n",
    "plt.axhline(perceptron.W[0], color='black', linestyle='-', label='grandom(x)')\n",
    "plt.plot(x, (-W[0]*x-b)/W[1], color='blue', linestyle='-',label='gsvm(x)' )\n",
    "plt.legend()\n",
    "handles, labels = plt.gca().get_legend_handles_labels()\n",
    "by_label = OrderedDict(zip(labels, handles))\n",
    "plt.legend(by_label.values(), by_label.keys())\n",
    "plt.xlabel(\"X1\");\n",
    "plt.ylabel(\"X2\");\n",
    "plt.show()"
   ]
  },
  {
   "cell_type": "code",
   "execution_count": 74,
   "metadata": {},
   "outputs": [],
   "source": [
    "def RandomDataPointsGenerator():\n",
    "    X1_positive = []\n",
    "    X2_positive = []\n",
    "    X1_negative = []\n",
    "    X2_negative = []\n",
    "    \n",
    "    for i in range(3):\n",
    "        X1_positive.append(random.uniform(0,1))\n",
    "        X2_positive.append(random.uniform(0,1))\n",
    "        X1_negative.append(random.uniform(-1,0))\n",
    "        X2_negative.append(random.uniform(-1,0))\n",
    "\n",
    "    #label the data\n",
    "    data1 = [np.array([X1_positive[i],X2_positive[i],1]) for i in range(3)]\n",
    "    data2 = [np.array([X1_negative[i],X2_negative[i],-1]) for i in range(3)]\n",
    "    data = data1 + data2\n",
    "    return data"
   ]
  },
  {
   "cell_type": "code",
   "execution_count": null,
   "metadata": {},
   "outputs": [],
   "source": [
    "random_a_array = []\n",
    "random_svm_a_array = []\n",
    "\n",
    "for i in range(1,100001):\n",
    "    data = RandomDataPointsGenerator()\n",
    "    clf.fit(np.array(data)[:,0:2],np.array(data)[:,2])\n",
    "    W = clf.coef_[0]\n",
    "    b = clf.intercept_[0]\n",
    "    perceptron.fit(data)\n",
    "    random_a_array.append(-perceptron.W[0])\n",
    "    random_svm_a_array.append(-b)"
   ]
  },
  {
   "cell_type": "code",
   "execution_count": null,
   "metadata": {},
   "outputs": [],
   "source": [
    "plt.hist(random_a_array, bins='auto')\n",
    "plt.show()"
   ]
  },
  {
   "cell_type": "code",
   "execution_count": null,
   "metadata": {},
   "outputs": [],
   "source": [
    "plt.hist(random_svm_a_array, bins='auto')\n",
    "plt.show()"
   ]
  },
  {
   "cell_type": "code",
   "execution_count": 133,
   "metadata": {},
   "outputs": [],
   "source": [
    "#Comparing the histogram we get gaussian distribution for asvm while for arandom we get uneven distribution."
   ]
  },
  {
   "cell_type": "code",
   "execution_count": null,
   "metadata": {},
   "outputs": [],
   "source": []
  },
  {
   "cell_type": "code",
   "execution_count": null,
   "metadata": {},
   "outputs": [],
   "source": []
  },
  {
   "cell_type": "code",
   "execution_count": null,
   "metadata": {},
   "outputs": [],
   "source": []
  },
  {
   "cell_type": "code",
   "execution_count": null,
   "metadata": {},
   "outputs": [],
   "source": []
  }
 ],
 "metadata": {
  "kernelspec": {
   "display_name": "Python 3",
   "language": "python",
   "name": "python3"
  },
  "language_info": {
   "codemirror_mode": {
    "name": "ipython",
    "version": 3
   },
   "file_extension": ".py",
   "mimetype": "text/x-python",
   "name": "python",
   "nbconvert_exporter": "python",
   "pygments_lexer": "ipython3",
   "version": "3.6.4"
  }
 },
 "nbformat": 4,
 "nbformat_minor": 2
}
